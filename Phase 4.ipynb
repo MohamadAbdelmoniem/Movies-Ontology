{
 "cells": [
  {
   "cell_type": "code",
   "execution_count": 44,
   "metadata": {},
   "outputs": [],
   "source": [
    "import rdflib\n",
    "from rdflib import Namespace, RDF,URIRef, Literal\n",
    "from owlready2 import get_ontology"
   ]
  },
  {
   "cell_type": "code",
   "execution_count": 57,
   "metadata": {},
   "outputs": [
    {
     "name": "stdout",
     "output_type": "stream",
     "text": [
      "File loaded successfully\n"
     ]
    }
   ],
   "source": [
    "# Define namespace\n",
    "ns = Namespace(\"http://www.semanticweb.org/dell/ontologies/2024/3/untitled-ontology-4#\")\n",
    "\n",
    "# Load RDF file and setup RDF graph\n",
    "g = rdflib.Graph()\n",
    "try:\n",
    "    g.parse(\"Movies.ttl\", format=\"turtle\")\n",
    "    print(\"File loaded successfully\")\n",
    "except FileNotFoundError:\n",
    "    print(\"File not found\")"
   ]
  },
  {
   "cell_type": "markdown",
   "metadata": {},
   "source": [
    "## Q1\n",
    "\n",
    "Displays all the Persons (without a query, using inference)."
   ]
  },
  {
   "cell_type": "code",
   "execution_count": 58,
   "metadata": {},
   "outputs": [
    {
     "name": "stdout",
     "output_type": "stream",
     "text": [
      "Abdel_Rahim_Kamal\n",
      "Abdelrahman_Yasser\n",
      "Adel_Emam\n",
      "Ahmed_Dawood\n",
      "Ahmed_El_Sakka\n",
      "Ahmed_Helmy\n",
      "Ahmed_Malek\n",
      "Ahmed_Mourad\n",
      "Aimi_Samir_Ghanem\n",
      "Akram_Hosny\n",
      "Alaa_Al-Aswany\n",
      "Amina_Khalil\n",
      "Amr_Youssef\n",
      "Asser_Yassin\n",
      "Ayman_Bahgat_Kamar\n",
      "Edward\n",
      "Fares_Bakr\n",
      "Hadi_El_Bagoury\n",
      "Haitham_Dabbour\n",
      "Hany_Adel\n",
      "Hind_Sabri\n",
      "Karim_Abdel_Aziz\n",
      "Khaled_Diab\n",
      "Khaled_El-Sawi\n",
      "Khaled_Marei\n",
      "Mahmoud_Hemida\n",
      "Mahmoud_Yassine\n",
      "Marwan_Hamed\n",
      "Menna_Shalaby\n",
      "Mohamad_Ramdan\n",
      "Mohamed_Diab\n",
      "Mohamed_Gamal_El-Adl\n",
      "Mohamed_Sadeq\n",
      "Nilli_Karim\n",
      "Nour_El-Sherif\n",
      "Shereen_Reda\n",
      "Sherif_Arafa\n",
      "Tamer_Ashry\n",
      "Tamer_Hosny\n",
      "Tara_Emad\n",
      "Wael_Hamdy\n",
      "Wahid_Hamed\n",
      "Youssra\n"
     ]
    }
   ],
   "source": [
    "def display_persons(owl_file):\n",
    "    onto = get_ontology(owl_file).load()\n",
    "    person_class = onto.search_one(iri=\"*Person\")\n",
    "    if person_class:\n",
    "        for person in person_class.instances():\n",
    "            print((person.name))\n",
    "\n",
    "display_persons(\"data/Movies.owl\")\n"
   ]
  },
  {
   "cell_type": "markdown",
   "metadata": {},
   "source": [
    "## Q2\n",
    "Displays all the Persons (using a query, without inference). Create the used query in text file under the data folder"
   ]
  },
  {
   "cell_type": "code",
   "execution_count": 78,
   "metadata": {},
   "outputs": [
    {
     "name": "stdout",
     "output_type": "stream",
     "text": [
      "RDF data loaded successfully.\n",
      "Query loaded successfully.\n",
      "Actor: Adel_Emam\n",
      "Actor: Ahmed_Dawood\n",
      "Actor: Ahmed_El_Sakka\n",
      "Actor: Ahmed_Helmy\n",
      "Actor: Ahmed_Malek\n",
      "Actor: Aimi_Samir_Ghanem\n",
      "Actor: Akram_Hosny\n",
      "Actor: Amina_Khalil\n",
      "Actor: Amr_Youssef\n",
      "Actor: Asser_Yassin\n",
      "Actor: Edward\n",
      "Actor: Fares_Bakr\n",
      "Actor: Hany_Adel\n",
      "Actor: Hind_Sabri\n",
      "Actor: Karim_Abdel_Aziz\n",
      "Actor: Khaled_El-Sawi\n",
      "Actor: Mahmoud_Hemida\n",
      "Actor: Mahmoud_Yassine\n",
      "Actor: Menna_Shalaby\n",
      "Actor: Mohamad_Ramdan\n",
      "Actor: Nilli_Karim\n",
      "Actor: Nour_El-Sherif\n",
      "Actor: Shereen_Reda\n",
      "Actor: Tamer_Hosny\n",
      "Actor: Tara_Emad\n",
      "Actor: Youssra\n",
      "Writer: Abdel_Rahim_Kamal\n",
      "Writer: Abdelrahman_Yasser\n",
      "Writer: Ahmed_Mourad\n",
      "Writer: Alaa_Al-Aswany\n",
      "Writer: Ayman_Bahgat_Kamar\n",
      "Writer: Haitham_Dabbour\n",
      "Writer: Khaled_Diab\n",
      "Writer: Mohamed_Diab\n",
      "Writer: Mohamed_Sadeq\n",
      "Writer: Sherif_Arafa\n",
      "Writer: Tamer_Hosny\n",
      "Writer: Wael_Hamdy\n",
      "Writer: Wahid_Hamed\n",
      "Director: Hadi_El_Bagoury\n",
      "Director: Khaled_Marei\n",
      "Director: Marwan_Hamed\n",
      "Director: Mohamed_Diab\n",
      "Director: Mohamed_Gamal_El-Adl\n",
      "Director: Sherif_Arafa\n",
      "Director: Tamer_Ashry\n"
     ]
    }
   ],
   "source": [
    "import rdflib\n",
    "from rdflib import Namespace, RDF\n",
    "\n",
    "# Define the ontology and namespace\n",
    "ontology_url = \"http://www.semanticweb.org/dell/ontologies/2024/3/untitled-ontology-4#\"\n",
    "ns = Namespace(ontology_url)\n",
    "\n",
    "# Initialize the graph\n",
    "g = rdflib.Graph()\n",
    "g.namespace_manager.bind('ns', ns, override=False)\n",
    "\n",
    "# Load the RDF data in Turtle format\n",
    "try:\n",
    "    g.parse(\"data/Movies.ttl\", format=\"turtle\")\n",
    "    print(\"RDF data loaded successfully.\")\n",
    "except Exception as e:\n",
    "    print(f\"Failed to load RDF data: {e}\")\n",
    "\n",
    "# Read the SPARQL query from the file\n",
    "try:\n",
    "    with open(\"data/query_person_roles.sparql\", \"r\") as file:\n",
    "        query = file.read()\n",
    "    print(\"Query loaded successfully.\")\n",
    "except Exception as e:\n",
    "    print(f\"Failed to load query: {e}\")\n",
    "\n",
    "# Execute the query and print results\n",
    "try:\n",
    "    qres = g.query(query)\n",
    "    for row in qres:\n",
    "        person_uri = row.person\n",
    "        person_name = person_uri.split('#')[-1] if '#' in person_uri else person_uri\n",
    "        print(f\"{row.role}: {person_name}\")\n",
    "    if not qres:\n",
    "        print(\"No persons found.\")\n",
    "except Exception as e:\n",
    "    print(f\"Failed to execute query: {e}\")\n"
   ]
  },
  {
   "cell_type": "markdown",
   "metadata": {},
   "source": [
    "## Q3\n",
    "displays all the Actors (without using queries, using inference)."
   ]
  },
  {
   "cell_type": "code",
   "execution_count": 64,
   "metadata": {},
   "outputs": [
    {
     "name": "stdout",
     "output_type": "stream",
     "text": [
      "Inferred Actor: Nour_El-Sherif\n",
      "Inferred Actor: Fares_Bakr\n",
      "Inferred Actor: Nilli_Karim\n",
      "Inferred Actor: Akram_Hosny\n",
      "Inferred Actor: Amina_Khalil\n",
      "Inferred Actor: Karim_Abdel_Aziz\n",
      "Inferred Actor: Ahmed_El_Sakka\n",
      "Inferred Actor: Tamer_Hosny\n",
      "Inferred Actor: Aimi_Samir_Ghanem\n",
      "Inferred Actor: Tara_Emad\n",
      "Inferred Actor: Hind_Sabri\n",
      "Inferred Actor: Ahmed_Dawood\n",
      "Inferred Actor: Ahmed_Helmy\n",
      "Inferred Actor: Mahmoud_Yassine\n",
      "Inferred Actor: Asser_Yassin\n",
      "Inferred Actor: Menna_Shalaby\n",
      "Inferred Actor: Khaled_El-Sawi\n",
      "Inferred Actor: Adel_Emam\n",
      "Inferred Actor: Amr_Youssef\n",
      "Inferred Actor: Ahmed_Malek\n",
      "Inferred Actor: Shereen_Reda\n",
      "Inferred Actor: Mohamad_Ramdan\n",
      "Inferred Actor: Youssra\n",
      "Inferred Actor: Edward\n",
      "Inferred Actor: Mahmoud_Hemida\n",
      "Inferred Actor: Hany_Adel\n"
     ]
    }
   ],
   "source": [
    "# Let's create a set to avoid duplicate actors\n",
    "actors = set()\n",
    "\n",
    "# Check for all triples that involve acting in a movie\n",
    "for actor, _, movie in g.triples((None, ns.isActorOf, None)):\n",
    "    # Infer that this subject is an Actor\n",
    "    g.add((actor, RDF.type, ns.Actor))\n",
    "    actors.add(actor)\n",
    "\n",
    "# Display all inferred actors\n",
    "for actor in actors:\n",
    "    actor_name = actor.split('#')[-1] if '#' in actor else actor\n",
    "    print(f\"Inferred Actor: {actor_name}\")\n"
   ]
  },
  {
   "cell_type": "markdown",
   "metadata": {},
   "source": [
    "## Q4\n",
    "Reads a name of a movie\n",
    "\n",
    "\n",
    "If it doesn’t exist displays an error message\n",
    "\n",
    "\n",
    "Else, display its year, country, genres and actors"
   ]
  },
  {
   "cell_type": "code",
   "execution_count": 79,
   "metadata": {},
   "outputs": [
    {
     "name": "stdout",
     "output_type": "stream",
     "text": [
      "Year: 2018\n",
      "Country: Egypt\n",
      "Genres: ['Drama']\n",
      "Actors: ['Asser_Yassin', 'Tara_Emad']\n"
     ]
    }
   ],
   "source": [
    "def display_movie_details(owl_file, movie_name):\n",
    "    onto = get_ontology(owl_file).load()\n",
    "    movie_instance = onto.search_one(iri=f\"*{movie_name}\")\n",
    "    if movie_instance:\n",
    "        print(f\"Year: {movie_instance.hasYear.first()}\")\n",
    "        print(f\"Country: {movie_instance.hasCountry.first()}\")\n",
    "        print(f\"Genres: {[genre.name for genre in movie_instance.hasGenre]}\")\n",
    "        print(f\"Actors: {[actor.name for actor in movie_instance.hasActor]}\")\n",
    "    else:\n",
    "        print(\"Error: Movie not found.\")\n",
    "\n",
    "# Usage\n",
    "display_movie_details(\"data/Movies.owl\", \"Turab_el-Mas\")"
   ]
  },
  {
   "cell_type": "markdown",
   "metadata": {},
   "source": [
    "## Q5\n",
    "\n",
    "ActorWriter Relation"
   ]
  },
  {
   "cell_type": "code",
   "execution_count": 47,
   "metadata": {},
   "outputs": [
    {
     "name": "stdout",
     "output_type": "stream",
     "text": [
      "Tamer Hosny is both an actor and a writer.\n"
     ]
    }
   ],
   "source": [
    "# Function to apply a specific rule from a file\n",
    "def apply_rules_from_file(graph, rule_file):\n",
    "    with open(rule_file, \"r\") as file:\n",
    "        rules = file.readlines()\n",
    "        \n",
    "    for rule in rules:\n",
    "        # Simple parsing of rule assuming the format given in previous messages\n",
    "        if \"ActorWriter\" in rule:\n",
    "            for s, p, o in graph.triples((None, ns['isActorOf'], None)):\n",
    "                if (s, ns['isWriterOf'], o) in graph:\n",
    "                    graph.add((s, RDF.type, ns['ActorWriter']))\n",
    "\n",
    "# Apply rules from the rules file\n",
    "apply_rules_from_file(g, \"data/actor_writer.rules\")\n",
    "\n",
    "# Query to find all ActorWriters\n",
    "qres = g.query(\n",
    "    \"\"\"\n",
    "    PREFIX ns: <http://www.semanticweb.org/dell/ontologies/2024/3/untitled-ontology-4#>\n",
    "    SELECT DISTINCT ?person ?name\n",
    "    WHERE {\n",
    "        ?person rdf:type ns:ActorWriter ;\n",
    "                ns:hasName ?name .\n",
    "    }\n",
    "    \"\"\")\n",
    "\n",
    "# Print results\n",
    "for row in qres:\n",
    "    print(f\"{row.name} is both an actor and a writer.\")\n"
   ]
  },
  {
   "cell_type": "markdown",
   "metadata": {},
   "source": [
    "## Q6\n",
    "hasMovieCount\n",
    "\n",
    "\n",
    "isOldActor\n",
    "\n",
    "\n",
    "isYoungActor "
   ]
  },
  {
   "cell_type": "code",
   "execution_count": 48,
   "metadata": {},
   "outputs": [
    {
     "name": "stdout",
     "output_type": "stream",
     "text": [
      "actorName: Adel Emam, Movie Count: 1, Is Old: true, Is Young: None\n",
      "actorName: Ahmed Dawood, Movie Count: 1, Is Old: None, Is Young: None\n",
      "actorName: Ahmed El Sakka, Movie Count: 1, Is Old: None, Is Young: None\n",
      "actorName: Ahmed Helmy, Movie Count: 2, Is Old: None, Is Young: None\n",
      "actorName: Ahmed Malek, Movie Count: 1, Is Old: None, Is Young: true\n",
      "actorName: Aimi Samir Ghanem, Movie Count: 1, Is Old: None, Is Young: None\n",
      "actorName: Akram Hosny, Movie Count: 1, Is Old: None, Is Young: None\n",
      "actorName: Amina Khalil, Movie Count: 2, Is Old: None, Is Young: true\n",
      "actorName: Amr Youssef, Movie Count: 1, Is Old: None, Is Young: None\n",
      "actorName: Aser Yassin, Movie Count: 1, Is Old: None, Is Young: None\n",
      "actorName: Edward, Movie Count: 1, Is Old: None, Is Young: None\n",
      "actorName: Fares Bakr, Movie Count: 1, Is Old: true, Is Young: None\n",
      "actorName: Hany Adel, Movie Count: 1, Is Old: None, Is Young: None\n",
      "actorName: Hind Sabri, Movie Count: 2, Is Old: None, Is Young: None\n",
      "actorName: Karim Abdel Aziz, Movie Count: 1, Is Old: None, Is Young: None\n",
      "actorName: Khaled El Sawi, Movie Count: 1, Is Old: None, Is Young: None\n",
      "actorName: Mahmoud Hemida, Movie Count: 1, Is Old: None, Is Young: None\n",
      "actorName: Mahmoud Yassine, Movie Count: 1, Is Old: true, Is Young: None\n",
      "actorName: Menna Shalaby, Movie Count: 1, Is Old: None, Is Young: None\n",
      "actorName: Mohamed Ramdan, Movie Count: 1, Is Old: None, Is Young: true\n",
      "actorName: Nili Karim, Movie Count: 2, Is Old: None, Is Young: None\n",
      "actorName: Nour El-Sherif, Movie Count: 1, Is Old: true, Is Young: None\n",
      "actorName: Shereen Reda, Movie Count: 1, Is Old: true, Is Young: None\n",
      "actorName: Tamer Hosny, Movie Count: 1, Is Old: None, Is Young: None\n",
      "actorName: Tara Emad, Movie Count: 1, Is Old: None, Is Young: true\n",
      "actorName: Youssra, Movie Count: 1, Is Old: true, Is Young: None\n"
     ]
    }
   ],
   "source": [
    "def apply_rules_from_file(graph, rule_file):\n",
    "    with open(rule_file, \"r\") as file:\n",
    "        rules = file.readlines()\n",
    "\n",
    "    for rule in rules:\n",
    "        rule = rule.strip()\n",
    "        if \"Movie Count\" in rule:  # Adjusted rule name for clarity\n",
    "            for actor in graph.subjects(RDF.type, ns.Actor):\n",
    "                movie_count = 0\n",
    "                for _, movie in graph.subject_objects(predicate=ns.isActorOf):\n",
    "                    if actor == _:  # Check if the current actor is the subject\n",
    "                        movie_count += 1\n",
    "                graph.add((actor, ns.hasMovieCount, Literal(movie_count)))  # Added count property\n",
    "        elif \"Old Actors\" in rule:\n",
    "            age_limit = int(rule.split(\", Age > \")[1])\n",
    "            for actor in graph.subjects(RDF.type, ns.Actor):\n",
    "                age = graph.value(actor, ns.hasAge)\n",
    "                if age and int(age) > age_limit:\n",
    "                    graph.add((actor, ns.isOldActor, Literal(True)))\n",
    "        elif \"Young Actors\" in rule:\n",
    "            age_limit = int(rule.split(\", Age < \")[1])\n",
    "            for actor in graph.subjects(RDF.type, ns.Actor):\n",
    "                age = graph.value(actor, ns.hasAge)\n",
    "                if age and int(age) < age_limit:\n",
    "                    graph.add((actor, ns.isYoungActor, Literal(True)))\n",
    "\n",
    "# Apply rules from the rules file\n",
    "apply_rules_from_file(g, \"data/actor_rules.rules\")\n",
    "\n",
    "# Query and print results\n",
    "qres = g.query(\n",
    "    \"\"\"\n",
    "    PREFIX ns: <http://www.semanticweb.org/dell/ontologies/2024/3/untitled-ontology-4#>\n",
    "    SELECT ?actorName ?movieCount ?isOld ?isYoung\n",
    "    WHERE {\n",
    "        ?actor rdf:type ns:Actor .\n",
    "        ?actor ns:hasName ?actorName .\n",
    "        OPTIONAL { ?actor ns:hasMovieCount ?movieCount . }\n",
    "        OPTIONAL { ?actor ns:isOldActor ?isOld . }\n",
    "        OPTIONAL { ?actor ns:isYoungActor ?isYoung . }\n",
    "    }\n",
    "    \"\"\")\n",
    "\n",
    "# Print results\n",
    "for row in qres:\n",
    "    print(f\"actorName: {row.actorName}, Movie Count: {row.movieCount}, Is Old: {row.isOld}, Is Young: {row.isYoung}\")\n"
   ]
  }
 ],
 "metadata": {
  "kernelspec": {
   "display_name": "Python 3",
   "language": "python",
   "name": "python3"
  },
  "language_info": {
   "codemirror_mode": {
    "name": "ipython",
    "version": 3
   },
   "file_extension": ".py",
   "mimetype": "text/x-python",
   "name": "python",
   "nbconvert_exporter": "python",
   "pygments_lexer": "ipython3",
   "version": "3.10.11"
  }
 },
 "nbformat": 4,
 "nbformat_minor": 2
}
